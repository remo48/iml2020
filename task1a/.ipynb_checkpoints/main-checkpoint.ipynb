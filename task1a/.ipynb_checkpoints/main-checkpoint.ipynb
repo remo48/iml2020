{
 "cells": [
  {
   "cell_type": "code",
   "execution_count": 31,
   "metadata": {},
   "outputs": [],
   "source": [
    "import pandas as pd\n",
    "import numpy as np\n",
    "from sklearn.model_selection import KFold\n",
    "from sklearn.linear_model import Ridge\n",
    "from sklearn.metrics import mean_squared_error"
   ]
  },
  {
   "cell_type": "code",
   "execution_count": 36,
   "metadata": {},
   "outputs": [
    {
     "name": "stdout",
     "output_type": "stream",
     "text": [
      "           x1    x2     x3   x4     x5     x6     x7      x8    x9    x10  \\\n",
      "0     0.06724   0.0   3.24  0.0  0.460  6.333   17.2  5.2146   4.0  430.0   \n",
      "1     9.23230   0.0  18.10  0.0  0.631  6.216  100.0  1.1691  24.0  666.0   \n",
      "2     0.11425   0.0  13.89  1.0  0.550  6.373   92.4  3.3633   5.0  276.0   \n",
      "3    24.80170   0.0  18.10  0.0  0.693  5.349   96.0  1.7028  24.0  666.0   \n",
      "4     0.05646   0.0  12.83  0.0  0.437  6.232   53.7  5.0141   5.0  398.0   \n",
      "..        ...   ...    ...  ...    ...    ...    ...     ...   ...    ...   \n",
      "501   0.28392   0.0   7.38  0.0  0.493  5.708   74.3  4.7211   5.0  287.0   \n",
      "502   0.08664  45.0   3.44  0.0  0.437  7.178   26.3  6.4798   5.0  398.0   \n",
      "503   0.15098   0.0  10.01  0.0  0.547  6.021   82.6  2.7474   6.0  432.0   \n",
      "504   0.22927   0.0   6.91  0.0  0.448  6.030   85.5  5.6894   3.0  233.0   \n",
      "505   0.13914   0.0   4.05  0.0  0.510  5.572   88.5  2.5961   5.0  296.0   \n",
      "\n",
      "      x11     x12    x13  \n",
      "0    16.9  375.21   7.34  \n",
      "1    20.2  366.15   9.53  \n",
      "2    16.4  393.74  10.50  \n",
      "3    20.2  396.90  19.77  \n",
      "4    18.7  386.40  12.34  \n",
      "..    ...     ...    ...  \n",
      "501  19.6  391.13  11.74  \n",
      "502  15.2  390.49   2.87  \n",
      "503  17.8  394.51  10.30  \n",
      "504  17.9  392.74  18.80  \n",
      "505  16.6  396.90  14.69  \n",
      "\n",
      "[506 rows x 13 columns]\n"
     ]
    }
   ],
   "source": [
    "trainset = pd.read_csv('train.csv')\n",
    "trainset.pop('Id')\n",
    "y = trainset.pop('y').values\n",
    "X = trainset.values\n",
    "\n",
    "print(trainset)\n",
    "\n",
    "alphas = [0.01, 0.1, 1, 10, 100]"
   ]
  },
  {
   "cell_type": "code",
   "execution_count": 50,
   "metadata": {},
   "outputs": [
    {
     "name": "stdout",
     "output_type": "stream",
     "text": [
      "[4.79651739 4.79634821 4.81030331 4.86799204 4.98805939]\n"
     ]
    }
   ],
   "source": [
    "kf = KFold(n_splits=10)\n",
    "\n",
    "\n",
    "for alpha in alphas:\n",
    "    RMSE = 0\n",
    "    for train_index, test_index in kf.split(X):\n",
    "        X_train, X_test = X[train_index], X[test_index]\n",
    "        y_train, y_test = y[train_index], y[test_index]\n",
    "\n",
    "        model = Ridge(alpha=alpha)\n",
    "        model.fit(X_train, y_train)\n",
    "        y_pred = model.predict(X_test)\n",
    "        MSE = mean_squared_error(y_pred, y_test)\n",
    "        RMSE += np.sqrt(MSE)\n",
    "    RMSE /= 10\n",
    "    res = np.append(res, RMSE)\n",
    "\n",
    "print(res)\n",
    "    "
   ]
  },
  {
   "cell_type": "code",
   "execution_count": null,
   "metadata": {},
   "outputs": [],
   "source": []
  }
 ],
 "metadata": {
  "kernelspec": {
   "display_name": "Python 3",
   "language": "python",
   "name": "python3"
  },
  "language_info": {
   "codemirror_mode": {
    "name": "ipython",
    "version": 3
   },
   "file_extension": ".py",
   "mimetype": "text/x-python",
   "name": "python",
   "nbconvert_exporter": "python",
   "pygments_lexer": "ipython3",
   "version": "3.7.5"
  }
 },
 "nbformat": 4,
 "nbformat_minor": 4
}
