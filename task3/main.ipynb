{
 "cells": [
  {
   "cell_type": "code",
   "execution_count": 21,
   "metadata": {},
   "outputs": [],
   "source": [
    "import numpy as np\n",
    "import pandas as pd\n",
    "\n",
    "from sklearn.model_selection import train_test_split\n",
    "from sklearn.metrics import f1_score, precision_score, recall_score, confusion_matrix\n",
    "from keras.utils import to_categorical\n",
    "from keras.models import Sequential\n",
    "from keras.layers import Dense, Conv1D, MaxPooling1D, Flatten, Dropout\n",
    "from keras.layers import LSTM\n",
    "from keras.layers.embeddings import Embedding\n",
    "\n",
    "from imblearn.over_sampling import RandomOverSampler\n",
    "from imblearn.under_sampling import RandomUnderSampler\n",
    "\n",
    "AMINO_ACIDS = ['A', 'C', 'D', 'E', 'F', 'G', 'H', 'I', 'K', 'L', 'M', 'N', 'P',\n",
    "         'Q', 'R', 'S', 'T', 'V', 'W', 'Y']"
   ]
  },
  {
   "cell_type": "code",
   "execution_count": 2,
   "metadata": {},
   "outputs": [
    {
     "output_type": "execute_result",
     "data": {
      "text/plain": "       Sequence  Active\n0          DKWL       0\n1          FCHN       0\n2          KDQP       0\n3          FNWI       0\n4          NKRM       0\n...         ...     ...\n111995     GSME       0\n111996     DLPT       0\n111997     SGHC       0\n111998     KIGT       0\n111999     PGPT       0\n\n[112000 rows x 2 columns]",
      "text/html": "<div>\n<style scoped>\n    .dataframe tbody tr th:only-of-type {\n        vertical-align: middle;\n    }\n\n    .dataframe tbody tr th {\n        vertical-align: top;\n    }\n\n    .dataframe thead th {\n        text-align: right;\n    }\n</style>\n<table border=\"1\" class=\"dataframe\">\n  <thead>\n    <tr style=\"text-align: right;\">\n      <th></th>\n      <th>Sequence</th>\n      <th>Active</th>\n    </tr>\n  </thead>\n  <tbody>\n    <tr>\n      <th>0</th>\n      <td>DKWL</td>\n      <td>0</td>\n    </tr>\n    <tr>\n      <th>1</th>\n      <td>FCHN</td>\n      <td>0</td>\n    </tr>\n    <tr>\n      <th>2</th>\n      <td>KDQP</td>\n      <td>0</td>\n    </tr>\n    <tr>\n      <th>3</th>\n      <td>FNWI</td>\n      <td>0</td>\n    </tr>\n    <tr>\n      <th>4</th>\n      <td>NKRM</td>\n      <td>0</td>\n    </tr>\n    <tr>\n      <th>...</th>\n      <td>...</td>\n      <td>...</td>\n    </tr>\n    <tr>\n      <th>111995</th>\n      <td>GSME</td>\n      <td>0</td>\n    </tr>\n    <tr>\n      <th>111996</th>\n      <td>DLPT</td>\n      <td>0</td>\n    </tr>\n    <tr>\n      <th>111997</th>\n      <td>SGHC</td>\n      <td>0</td>\n    </tr>\n    <tr>\n      <th>111998</th>\n      <td>KIGT</td>\n      <td>0</td>\n    </tr>\n    <tr>\n      <th>111999</th>\n      <td>PGPT</td>\n      <td>0</td>\n    </tr>\n  </tbody>\n</table>\n<p>112000 rows × 2 columns</p>\n</div>"
     },
     "metadata": {},
     "execution_count": 2
    }
   ],
   "source": [
    "train_df = pd.read_csv('train.csv')\n",
    "test_df = pd.read_csv('test.csv')\n",
    "\n",
    "combined = [train_df, test_df]\n",
    "train_df"
   ]
  },
  {
   "cell_type": "code",
   "execution_count": 3,
   "metadata": {},
   "outputs": [
    {
     "output_type": "execute_result",
     "data": {
      "text/plain": "0    107787\n1      4213\nName: Active, dtype: int64"
     },
     "metadata": {},
     "execution_count": 3
    }
   ],
   "source": [
    "train_df['Active'].value_counts()"
   ]
  },
  {
   "cell_type": "code",
   "execution_count": 4,
   "metadata": {},
   "outputs": [
    {
     "output_type": "execute_result",
     "data": {
      "text/plain": "{'A': 0,\n 'C': 1,\n 'D': 2,\n 'E': 3,\n 'F': 4,\n 'G': 5,\n 'H': 6,\n 'I': 7,\n 'K': 8,\n 'L': 9,\n 'M': 10,\n 'N': 11,\n 'P': 12,\n 'Q': 13,\n 'R': 14,\n 'S': 15,\n 'T': 16,\n 'V': 17,\n 'W': 18,\n 'Y': 19}"
     },
     "metadata": {},
     "execution_count": 4
    }
   ],
   "source": [
    "labels = {}\n",
    "for i, val in enumerate(AMINO_ACIDS):\n",
    "    labels[val] = i\n",
    "\n",
    "labels"
   ]
  },
  {
   "cell_type": "code",
   "execution_count": 12,
   "metadata": {},
   "outputs": [],
   "source": [
    "def encode_seq(df):\n",
    "    data_encoded = []\n",
    "    for row in df['Sequence'].values:\n",
    "        row_encoded = []\n",
    "        for c in row:\n",
    "            row_encoded.append(labels[c])\n",
    "        data_encoded.append(np.array(row_encoded))\n",
    "\n",
    "    return data_encoded\n",
    "\n",
    "X = np.array(encode_seq(train_df))\n",
    "y = train_df['Active'].values"
   ]
  },
  {
   "cell_type": "code",
   "execution_count": 13,
   "metadata": {},
   "outputs": [],
   "source": [
    "X_train, X_val, y_train, y_val = train_test_split(X, y, test_size=0.33, random_state=42)"
   ]
  },
  {
   "cell_type": "code",
   "execution_count": 14,
   "metadata": {},
   "outputs": [],
   "source": [
    "ros = RandomOverSampler(random_state=42)\n",
    "X_train, y_train = ros.fit_resample(X_train, y_train)\n",
    "y_train = to_categorical(y_train)"
   ]
  },
  {
   "cell_type": "code",
   "execution_count": 18,
   "metadata": {},
   "outputs": [
    {
     "output_type": "stream",
     "name": "stdout",
     "text": "Model: \"sequential_3\"\n_________________________________________________________________\nLayer (type)                 Output Shape              Param #   \n=================================================================\nembedding_3 (Embedding)      (None, 4, 32)             640       \n_________________________________________________________________\nlstm_3 (LSTM)                (None, 100)               53200     \n_________________________________________________________________\ndense_3 (Dense)              (None, 2)                 202       \n=================================================================\nTotal params: 54,042\nTrainable params: 54,042\nNon-trainable params: 0\n_________________________________________________________________\nNone\n"
    }
   ],
   "source": [
    "embedding_dim = 32\n",
    "\n",
    "model = Sequential()\n",
    "model.add(Embedding(20, embedding_dim, input_length=4))\n",
    "model.add(LSTM(100))\n",
    "model.add(Dense(2, activation='softmax'))\n",
    "model.compile(loss='binary_crossentropy', optimizer='adam', metrics=['accuracy'])\n",
    "print(model.summary())"
   ]
  },
  {
   "cell_type": "code",
   "execution_count": 19,
   "metadata": {},
   "outputs": [
    {
     "output_type": "stream",
     "name": "stdout",
     "text": "Train on 50276 samples, validate on 24764 samples\nEpoch 1/3\n50276/50276 [==============================] - 14s 286us/step - loss: 0.1000 - accuracy: 0.9655 - val_loss: 0.0736 - val_accuracy: 0.9729\nEpoch 2/3\n50276/50276 [==============================] - 20s 406us/step - loss: 0.0629 - accuracy: 0.9749 - val_loss: 0.0565 - val_accuracy: 0.9765\nEpoch 3/3\n50276/50276 [==============================] - 21s 414us/step - loss: 0.0515 - accuracy: 0.9793 - val_loss: 0.0547 - val_accuracy: 0.9787\n"
    },
    {
     "output_type": "execute_result",
     "data": {
      "text/plain": "<keras.callbacks.callbacks.History at 0x7fccb03f2c10>"
     },
     "metadata": {},
     "execution_count": 19
    }
   ],
   "source": [
    "model.fit(X_train, y_train, validation_split=0.33, epochs=3, batch_size=16)"
   ]
  },
  {
   "cell_type": "code",
   "execution_count": 22,
   "metadata": {},
   "outputs": [
    {
     "output_type": "stream",
     "name": "stdout",
     "text": "[0 0 0 ... 0 0 0]\n[0 0 0 ... 0 0 0]\n0.7163858013624955 0.7030260380014075 0.7302631578947368 [[35170   422]\n [  369   999]]\n"
    }
   ],
   "source": [
    "# validation\n",
    "y_pred = model.predict_classes(X_val)\n",
    "print(y_pred)\n",
    "y_test = y_val\n",
    "print(y_test)\n",
    "print(f1_score(y_test, y_pred), precision_score(y_test, y_pred), recall_score(y_test, y_pred), confusion_matrix(y_test, y_pred))"
   ]
  },
  {
   "cell_type": "code",
   "execution_count": 18,
   "metadata": {},
   "outputs": [],
   "source": [
    "# make submission\n",
    "X_test = np.array(encode_seq(test_df))\n",
    "\n",
    "y_test = model.predict_classes(X_test)\n",
    "submission = pd.DataFrame(y_test)\n",
    "submission.to_csv('submission.csv', header=False, index=False)"
   ]
  },
  {
   "cell_type": "code",
   "execution_count": 29,
   "metadata": {},
   "outputs": [
    {
     "output_type": "execute_result",
     "data": {
      "text/plain": "                  0\ncount  48000.000000\nmean       0.112167\nstd        0.315575\nmin        0.000000\n25%        0.000000\n50%        0.000000\n75%        0.000000\nmax        1.000000",
      "text/html": "<div>\n<style scoped>\n    .dataframe tbody tr th:only-of-type {\n        vertical-align: middle;\n    }\n\n    .dataframe tbody tr th {\n        vertical-align: top;\n    }\n\n    .dataframe thead th {\n        text-align: right;\n    }\n</style>\n<table border=\"1\" class=\"dataframe\">\n  <thead>\n    <tr style=\"text-align: right;\">\n      <th></th>\n      <th>0</th>\n    </tr>\n  </thead>\n  <tbody>\n    <tr>\n      <th>count</th>\n      <td>48000.000000</td>\n    </tr>\n    <tr>\n      <th>mean</th>\n      <td>0.112167</td>\n    </tr>\n    <tr>\n      <th>std</th>\n      <td>0.315575</td>\n    </tr>\n    <tr>\n      <th>min</th>\n      <td>0.000000</td>\n    </tr>\n    <tr>\n      <th>25%</th>\n      <td>0.000000</td>\n    </tr>\n    <tr>\n      <th>50%</th>\n      <td>0.000000</td>\n    </tr>\n    <tr>\n      <th>75%</th>\n      <td>0.000000</td>\n    </tr>\n    <tr>\n      <th>max</th>\n      <td>1.000000</td>\n    </tr>\n  </tbody>\n</table>\n</div>"
     },
     "metadata": {},
     "execution_count": 29
    }
   ],
   "source": [
    "submission.describe()"
   ]
  },
  {
   "cell_type": "code",
   "execution_count": null,
   "metadata": {},
   "outputs": [],
   "source": []
  }
 ],
 "metadata": {
  "language_info": {
   "codemirror_mode": {
    "name": "ipython",
    "version": 3
   },
   "file_extension": ".py",
   "mimetype": "text/x-python",
   "name": "python",
   "nbconvert_exporter": "python",
   "pygments_lexer": "ipython3",
   "version": "3.7.5-final"
  },
  "orig_nbformat": 2,
  "kernelspec": {
   "name": "python37564bit7902d3b6b96f4e0481d11ecc1823e43f",
   "display_name": "Python 3.7.5 64-bit"
  }
 },
 "nbformat": 4,
 "nbformat_minor": 2
}