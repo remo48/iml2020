{
 "cells": [
  {
   "cell_type": "code",
   "execution_count": 1,
   "metadata": {},
   "outputs": [],
   "source": [
    "import numpy as np\n",
    "import pandas as pd\n",
    "from sklearn.linear_model import LogisticRegression, LassoCV\n",
    "from sklearn.preprocessing import StandardScaler\n",
    "from sklearn.model_selection import train_test_split\n",
    "\n",
    "VITALS = ['LABEL_RRate', 'LABEL_ABPm', 'LABEL_SpO2', 'LABEL_Heartrate']\n",
    "TESTS = ['LABEL_BaseExcess', 'LABEL_Fibrinogen', 'LABEL_AST', 'LABEL_Alkalinephos', 'LABEL_Bilirubin_total',\n",
    "         'LABEL_Lactate', 'LABEL_TroponinI', 'LABEL_SaO2',\n",
    "         'LABEL_Bilirubin_direct', 'LABEL_EtCO2']\n",
    "\n",
    "VARIABLES = ['Age', 'EtCO2', 'PTT', 'BUN', 'Lactate', 'Temp', 'Hgb',\n",
    "       'HCO3', 'BaseExcess', 'RRate', 'Fibrinogen', 'Phosphate', 'WBC',\n",
    "       'Creatinine', 'PaCO2', 'AST', 'FiO2', 'Platelets', 'SaO2', 'Glucose',\n",
    "       'ABPm', 'Magnesium', 'Potassium', 'ABPd', 'Calcium', 'Alkalinephos',\n",
    "       'SpO2', 'Bilirubin_direct', 'Chloride', 'Hct', 'Heartrate',\n",
    "       'Bilirubin_total', 'TroponinI', 'ABPs', 'pH']\n",
    "\n",
    "FEAT_DESCS = []"
   ]
  },
  {
   "cell_type": "code",
   "execution_count": 12,
   "metadata": {},
   "outputs": [],
   "source": [
    "def get_patient_data(X, pids):\n",
    "    return X.loc[X['pid'].isin(pids)]\n",
    "\n",
    "def impute_variable(X_pid, var, strategy, stats):\n",
    "    '''imputes time series of variable var according to given imputation strategy\n",
    "    '''\n",
    "    if X_pid[var].count == 0:\n",
    "        pass\n",
    "    return []"
   ]
  },
  {
   "cell_type": "code",
   "execution_count": 8,
   "metadata": {},
   "outputs": [
    {
     "output_type": "execute_result",
     "data": {
      "text/plain": "                 pid           Time            Age        EtCO2          PTT  \\\ncount  170952.000000  170952.000000  170952.000000  7540.000000  7668.000000   \nmean    15768.154850       7.004703      62.061000    33.279708    40.204434   \nstd      9186.380803       4.482653      16.431033     7.759864    26.352134   \nmin         2.000000       1.000000      15.000000    10.000000    12.500000   \n25%      7824.000000       4.000000      52.000000    29.000000    27.800000   \n50%     15692.500000       7.000000      64.000000    33.500000    32.200000   \n75%     23783.000000      10.000000      74.000000    38.000000    40.500000   \nmax     31658.000000     315.000000     100.000000   100.000000   250.000000   \n\n                BUN      Lactate          Temp           Hgb         HCO3  \\\ncount  15081.000000  8027.000000  60996.000000  16681.000000  9402.000000   \nmean      23.190902     2.839130     36.853695     10.629165    23.510886   \nstd       19.897030     2.374801      0.881488      2.072501     4.434302   \nmin        1.000000     0.200000     21.000000      3.700000     0.000000   \n25%       12.000000     1.400000     36.000000      9.200000    21.000000   \n50%       17.000000     2.100000     37.000000     10.500000    23.900000   \n75%       27.000000     3.400000     37.000000     12.000000    26.000000   \nmax      266.000000    31.000000     42.000000     23.800000    50.000000   \n\n       ...  Alkalinephos           SpO2  Bilirubin_direct      Chloride  \\\ncount  ...   4292.000000  146362.000000        535.000000  10433.000000   \nmean   ...     97.969129      97.660383          1.318972    106.235551   \nstd    ...    130.503420       2.801402          2.778550      5.956256   \nmin    ...     12.000000      20.000000          0.010000     70.000000   \n25%    ...     53.000000      96.000000          0.100000    103.000000   \n50%    ...     72.000000      98.000000          0.300000    107.000000   \n75%    ...    105.000000     100.000000          1.130000    110.000000   \nmax    ...   3833.000000     100.000000         21.200000    141.000000   \n\n                Hct      Heartrate  Bilirubin_total    TroponinI  \\\ncount  20432.000000  150114.000000      4004.000000  2861.000000   \nmean      31.305190      84.495237         1.625612     7.395152   \nstd        5.772644      17.647456         3.195146    25.902217   \nmin        9.400000      23.000000         0.100000     0.010000   \n25%       27.300000      72.000000         0.500000     0.030000   \n50%       30.900000      83.000000         0.800000     0.160000   \n75%       35.000000      95.000000         1.400000     2.200000   \nmax       63.400000     191.000000        46.500000   440.000000   \n\n                ABPs            pH  \ncount  143641.000000  18807.000000  \nmean      122.427517      7.367672  \nstd        23.225179      0.074975  \nmin        22.000000      6.820000  \n25%       106.000000      7.330000  \n50%       119.000000      7.370000  \n75%       137.000000      7.410000  \nmax       287.000000      7.780000  \n\n[8 rows x 37 columns]",
      "text/html": "<div>\n<style scoped>\n    .dataframe tbody tr th:only-of-type {\n        vertical-align: middle;\n    }\n\n    .dataframe tbody tr th {\n        vertical-align: top;\n    }\n\n    .dataframe thead th {\n        text-align: right;\n    }\n</style>\n<table border=\"1\" class=\"dataframe\">\n  <thead>\n    <tr style=\"text-align: right;\">\n      <th></th>\n      <th>pid</th>\n      <th>Time</th>\n      <th>Age</th>\n      <th>EtCO2</th>\n      <th>PTT</th>\n      <th>BUN</th>\n      <th>Lactate</th>\n      <th>Temp</th>\n      <th>Hgb</th>\n      <th>HCO3</th>\n      <th>...</th>\n      <th>Alkalinephos</th>\n      <th>SpO2</th>\n      <th>Bilirubin_direct</th>\n      <th>Chloride</th>\n      <th>Hct</th>\n      <th>Heartrate</th>\n      <th>Bilirubin_total</th>\n      <th>TroponinI</th>\n      <th>ABPs</th>\n      <th>pH</th>\n    </tr>\n  </thead>\n  <tbody>\n    <tr>\n      <th>count</th>\n      <td>170952.000000</td>\n      <td>170952.000000</td>\n      <td>170952.000000</td>\n      <td>7540.000000</td>\n      <td>7668.000000</td>\n      <td>15081.000000</td>\n      <td>8027.000000</td>\n      <td>60996.000000</td>\n      <td>16681.000000</td>\n      <td>9402.000000</td>\n      <td>...</td>\n      <td>4292.000000</td>\n      <td>146362.000000</td>\n      <td>535.000000</td>\n      <td>10433.000000</td>\n      <td>20432.000000</td>\n      <td>150114.000000</td>\n      <td>4004.000000</td>\n      <td>2861.000000</td>\n      <td>143641.000000</td>\n      <td>18807.000000</td>\n    </tr>\n    <tr>\n      <th>mean</th>\n      <td>15768.154850</td>\n      <td>7.004703</td>\n      <td>62.061000</td>\n      <td>33.279708</td>\n      <td>40.204434</td>\n      <td>23.190902</td>\n      <td>2.839130</td>\n      <td>36.853695</td>\n      <td>10.629165</td>\n      <td>23.510886</td>\n      <td>...</td>\n      <td>97.969129</td>\n      <td>97.660383</td>\n      <td>1.318972</td>\n      <td>106.235551</td>\n      <td>31.305190</td>\n      <td>84.495237</td>\n      <td>1.625612</td>\n      <td>7.395152</td>\n      <td>122.427517</td>\n      <td>7.367672</td>\n    </tr>\n    <tr>\n      <th>std</th>\n      <td>9186.380803</td>\n      <td>4.482653</td>\n      <td>16.431033</td>\n      <td>7.759864</td>\n      <td>26.352134</td>\n      <td>19.897030</td>\n      <td>2.374801</td>\n      <td>0.881488</td>\n      <td>2.072501</td>\n      <td>4.434302</td>\n      <td>...</td>\n      <td>130.503420</td>\n      <td>2.801402</td>\n      <td>2.778550</td>\n      <td>5.956256</td>\n      <td>5.772644</td>\n      <td>17.647456</td>\n      <td>3.195146</td>\n      <td>25.902217</td>\n      <td>23.225179</td>\n      <td>0.074975</td>\n    </tr>\n    <tr>\n      <th>min</th>\n      <td>2.000000</td>\n      <td>1.000000</td>\n      <td>15.000000</td>\n      <td>10.000000</td>\n      <td>12.500000</td>\n      <td>1.000000</td>\n      <td>0.200000</td>\n      <td>21.000000</td>\n      <td>3.700000</td>\n      <td>0.000000</td>\n      <td>...</td>\n      <td>12.000000</td>\n      <td>20.000000</td>\n      <td>0.010000</td>\n      <td>70.000000</td>\n      <td>9.400000</td>\n      <td>23.000000</td>\n      <td>0.100000</td>\n      <td>0.010000</td>\n      <td>22.000000</td>\n      <td>6.820000</td>\n    </tr>\n    <tr>\n      <th>25%</th>\n      <td>7824.000000</td>\n      <td>4.000000</td>\n      <td>52.000000</td>\n      <td>29.000000</td>\n      <td>27.800000</td>\n      <td>12.000000</td>\n      <td>1.400000</td>\n      <td>36.000000</td>\n      <td>9.200000</td>\n      <td>21.000000</td>\n      <td>...</td>\n      <td>53.000000</td>\n      <td>96.000000</td>\n      <td>0.100000</td>\n      <td>103.000000</td>\n      <td>27.300000</td>\n      <td>72.000000</td>\n      <td>0.500000</td>\n      <td>0.030000</td>\n      <td>106.000000</td>\n      <td>7.330000</td>\n    </tr>\n    <tr>\n      <th>50%</th>\n      <td>15692.500000</td>\n      <td>7.000000</td>\n      <td>64.000000</td>\n      <td>33.500000</td>\n      <td>32.200000</td>\n      <td>17.000000</td>\n      <td>2.100000</td>\n      <td>37.000000</td>\n      <td>10.500000</td>\n      <td>23.900000</td>\n      <td>...</td>\n      <td>72.000000</td>\n      <td>98.000000</td>\n      <td>0.300000</td>\n      <td>107.000000</td>\n      <td>30.900000</td>\n      <td>83.000000</td>\n      <td>0.800000</td>\n      <td>0.160000</td>\n      <td>119.000000</td>\n      <td>7.370000</td>\n    </tr>\n    <tr>\n      <th>75%</th>\n      <td>23783.000000</td>\n      <td>10.000000</td>\n      <td>74.000000</td>\n      <td>38.000000</td>\n      <td>40.500000</td>\n      <td>27.000000</td>\n      <td>3.400000</td>\n      <td>37.000000</td>\n      <td>12.000000</td>\n      <td>26.000000</td>\n      <td>...</td>\n      <td>105.000000</td>\n      <td>100.000000</td>\n      <td>1.130000</td>\n      <td>110.000000</td>\n      <td>35.000000</td>\n      <td>95.000000</td>\n      <td>1.400000</td>\n      <td>2.200000</td>\n      <td>137.000000</td>\n      <td>7.410000</td>\n    </tr>\n    <tr>\n      <th>max</th>\n      <td>31658.000000</td>\n      <td>315.000000</td>\n      <td>100.000000</td>\n      <td>100.000000</td>\n      <td>250.000000</td>\n      <td>266.000000</td>\n      <td>31.000000</td>\n      <td>42.000000</td>\n      <td>23.800000</td>\n      <td>50.000000</td>\n      <td>...</td>\n      <td>3833.000000</td>\n      <td>100.000000</td>\n      <td>21.200000</td>\n      <td>141.000000</td>\n      <td>63.400000</td>\n      <td>191.000000</td>\n      <td>46.500000</td>\n      <td>440.000000</td>\n      <td>287.000000</td>\n      <td>7.780000</td>\n    </tr>\n  </tbody>\n</table>\n<p>8 rows × 37 columns</p>\n</div>"
     },
     "metadata": {},
     "execution_count": 8
    }
   ],
   "source": [
    "X_features = pd.read_csv('train_features.csv')\n",
    "all_pids = X_features['pid'].drop_duplicates().to_numpy()\n",
    "train_pids, val_pids = train_test_split(all_pids, random_state=42)\n",
    "\n",
    "train_stats = get_patient_data(X_features, train_pids).describe()\n",
    "test_stats = get_patient_data(X_features, test_stats).describe()\n",
    "\n",
    "X_all = []"
   ]
  },
  {
   "cell_type": "code",
   "execution_count": 11,
   "metadata": {},
   "outputs": [
    {
     "output_type": "error",
     "ename": "TypeError",
     "evalue": "only list-like objects are allowed to be passed to isin(), you passed a [int64]",
     "traceback": [
      "\u001b[0;31m---------------------------------------------------------------------------\u001b[0m",
      "\u001b[0;31mTypeError\u001b[0m                                 Traceback (most recent call last)",
      "\u001b[0;32m<ipython-input-11-b9257c942470>\u001b[0m in \u001b[0;36m<module>\u001b[0;34m\u001b[0m\n\u001b[1;32m      1\u001b[0m \u001b[0;32mfor\u001b[0m \u001b[0mpid\u001b[0m \u001b[0;32min\u001b[0m \u001b[0mtrain_pids\u001b[0m\u001b[0;34m:\u001b[0m\u001b[0;34m\u001b[0m\u001b[0;34m\u001b[0m\u001b[0m\n\u001b[0;32m----> 2\u001b[0;31m     \u001b[0mX_pid\u001b[0m \u001b[0;34m=\u001b[0m \u001b[0mget_patient_data\u001b[0m\u001b[0;34m(\u001b[0m\u001b[0mX_features\u001b[0m\u001b[0;34m,\u001b[0m \u001b[0mpid\u001b[0m\u001b[0;34m)\u001b[0m\u001b[0;34m\u001b[0m\u001b[0;34m\u001b[0m\u001b[0m\n\u001b[0m\u001b[1;32m      3\u001b[0m \u001b[0;34m\u001b[0m\u001b[0m\n\u001b[1;32m      4\u001b[0m     \u001b[0mimputed_time_series\u001b[0m\u001b[0;34m=\u001b[0m\u001b[0;34m{\u001b[0m\u001b[0;34m}\u001b[0m\u001b[0;34m\u001b[0m\u001b[0;34m\u001b[0m\u001b[0m\n\u001b[1;32m      5\u001b[0m     \u001b[0mimp_strategy\u001b[0m \u001b[0;34m=\u001b[0m \u001b[0;34m'linear_interpolation'\u001b[0m\u001b[0;34m\u001b[0m\u001b[0;34m\u001b[0m\u001b[0m\n",
      "\u001b[0;32m<ipython-input-6-747f32e65645>\u001b[0m in \u001b[0;36mget_patient_data\u001b[0;34m(X, pids)\u001b[0m\n\u001b[1;32m      1\u001b[0m \u001b[0;32mdef\u001b[0m \u001b[0mget_patient_data\u001b[0m\u001b[0;34m(\u001b[0m\u001b[0mX\u001b[0m\u001b[0;34m,\u001b[0m \u001b[0mpids\u001b[0m\u001b[0;34m)\u001b[0m\u001b[0;34m:\u001b[0m\u001b[0;34m\u001b[0m\u001b[0;34m\u001b[0m\u001b[0m\n\u001b[0;32m----> 2\u001b[0;31m     \u001b[0;32mreturn\u001b[0m \u001b[0mX\u001b[0m\u001b[0;34m.\u001b[0m\u001b[0mloc\u001b[0m\u001b[0;34m[\u001b[0m\u001b[0mX\u001b[0m\u001b[0;34m[\u001b[0m\u001b[0;34m'pid'\u001b[0m\u001b[0;34m]\u001b[0m\u001b[0;34m.\u001b[0m\u001b[0misin\u001b[0m\u001b[0;34m(\u001b[0m\u001b[0mpids\u001b[0m\u001b[0;34m)\u001b[0m\u001b[0;34m]\u001b[0m\u001b[0;34m\u001b[0m\u001b[0;34m\u001b[0m\u001b[0m\n\u001b[0m\u001b[1;32m      3\u001b[0m \u001b[0;34m\u001b[0m\u001b[0m\n\u001b[1;32m      4\u001b[0m \u001b[0;32mdef\u001b[0m \u001b[0mimpute_variable\u001b[0m\u001b[0;34m(\u001b[0m\u001b[0mX_pid\u001b[0m\u001b[0;34m,\u001b[0m \u001b[0mvar\u001b[0m\u001b[0;34m,\u001b[0m \u001b[0mstrategy\u001b[0m\u001b[0;34m,\u001b[0m \u001b[0mstats\u001b[0m\u001b[0;34m)\u001b[0m\u001b[0;34m:\u001b[0m\u001b[0;34m\u001b[0m\u001b[0;34m\u001b[0m\u001b[0m\n\u001b[1;32m      5\u001b[0m     '''imputes time series of variable var according to given imputation strategy\n",
      "\u001b[0;32m/usr/local/lib/python3.7/dist-packages/pandas/core/series.py\u001b[0m in \u001b[0;36misin\u001b[0;34m(self, values)\u001b[0m\n\u001b[1;32m   4292\u001b[0m         \u001b[0mName\u001b[0m\u001b[0;34m:\u001b[0m \u001b[0manimal\u001b[0m\u001b[0;34m,\u001b[0m \u001b[0mdtype\u001b[0m\u001b[0;34m:\u001b[0m \u001b[0mbool\u001b[0m\u001b[0;34m\u001b[0m\u001b[0;34m\u001b[0m\u001b[0m\n\u001b[1;32m   4293\u001b[0m         \"\"\"\n\u001b[0;32m-> 4294\u001b[0;31m         \u001b[0mresult\u001b[0m \u001b[0;34m=\u001b[0m \u001b[0malgorithms\u001b[0m\u001b[0;34m.\u001b[0m\u001b[0misin\u001b[0m\u001b[0;34m(\u001b[0m\u001b[0mself\u001b[0m\u001b[0;34m,\u001b[0m \u001b[0mvalues\u001b[0m\u001b[0;34m)\u001b[0m\u001b[0;34m\u001b[0m\u001b[0;34m\u001b[0m\u001b[0m\n\u001b[0m\u001b[1;32m   4295\u001b[0m         \u001b[0;32mreturn\u001b[0m \u001b[0mself\u001b[0m\u001b[0;34m.\u001b[0m\u001b[0m_constructor\u001b[0m\u001b[0;34m(\u001b[0m\u001b[0mresult\u001b[0m\u001b[0;34m,\u001b[0m \u001b[0mindex\u001b[0m\u001b[0;34m=\u001b[0m\u001b[0mself\u001b[0m\u001b[0;34m.\u001b[0m\u001b[0mindex\u001b[0m\u001b[0;34m)\u001b[0m\u001b[0;34m.\u001b[0m\u001b[0m__finalize__\u001b[0m\u001b[0;34m(\u001b[0m\u001b[0mself\u001b[0m\u001b[0;34m)\u001b[0m\u001b[0;34m\u001b[0m\u001b[0;34m\u001b[0m\u001b[0m\n\u001b[1;32m   4296\u001b[0m \u001b[0;34m\u001b[0m\u001b[0m\n",
      "\u001b[0;32m/usr/local/lib/python3.7/dist-packages/pandas/core/algorithms.py\u001b[0m in \u001b[0;36misin\u001b[0;34m(comps, values)\u001b[0m\n\u001b[1;32m    409\u001b[0m     \u001b[0;32mif\u001b[0m \u001b[0;32mnot\u001b[0m \u001b[0mis_list_like\u001b[0m\u001b[0;34m(\u001b[0m\u001b[0mvalues\u001b[0m\u001b[0;34m)\u001b[0m\u001b[0;34m:\u001b[0m\u001b[0;34m\u001b[0m\u001b[0;34m\u001b[0m\u001b[0m\n\u001b[1;32m    410\u001b[0m         raise TypeError(\n\u001b[0;32m--> 411\u001b[0;31m             \u001b[0;34m\"only list-like objects are allowed to be passed \"\u001b[0m\u001b[0;34m\u001b[0m\u001b[0;34m\u001b[0m\u001b[0m\n\u001b[0m\u001b[1;32m    412\u001b[0m             \u001b[0;34mf\"to isin(), you passed a [{type(values).__name__}]\"\u001b[0m\u001b[0;34m\u001b[0m\u001b[0;34m\u001b[0m\u001b[0m\n\u001b[1;32m    413\u001b[0m         )\n",
      "\u001b[0;31mTypeError\u001b[0m: only list-like objects are allowed to be passed to isin(), you passed a [int64]"
     ]
    }
   ],
   "source": [
    "for pid in train_pids:\n",
    "    X_pid = X_features.loc[X_features['pid'] == pid]\n",
    "\n",
    "    imputed_time_series={}\n",
    "    imp_strategy = 'linear_interpolation'\n",
    "    for var in VARIABLES:\n",
    "        imputed_time_series[var, imp_strategy] = impute_variable(X_pid, var, imp_strategy, train_stats)\n",
    "\n",
    "    feat_row = []\n",
    "    for feat_desc in FEAT_DESCS:\n",
    "        needed_inputs, fun = feat_desc\n",
    "        args = []\n",
    "        for var, needs_imputed, strategy in needed_inputs:\n",
    "            if needs_inputed:\n",
    "                input = imputed_time_series[var, strategy]\n",
    "            else:\n",
    "                input = X_pid[var].to_numpy()\n",
    "            args.append(input)\n",
    "        \n",
    "        feature = fun(args)\n",
    "        feat_row.append(feature)\n",
    "    \n",
    "    X_all.append(feat_row)\n",
    "\n",
    "X_train = np.concatenate(X_all, axis=0)"
   ]
  },
  {
   "cell_type": "code",
   "execution_count": null,
   "metadata": {},
   "outputs": [],
   "source": []
  }
 ],
 "metadata": {
  "kernelspec": {
   "name": "python37564bit7902d3b6b96f4e0481d11ecc1823e43f",
   "display_name": "Python 3.7.5 64-bit"
  }
 },
 "nbformat": 4,
 "nbformat_minor": 4
}